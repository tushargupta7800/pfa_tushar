{
 "cells": [
  {
   "cell_type": "code",
   "execution_count": 1,
   "metadata": {},
   "outputs": [
    {
     "name": "stdout",
     "output_type": "stream",
     "text": [
      "17\n"
     ]
    }
   ],
   "source": [
    "#Addition\n",
    "print(7+10)\n",
    "\n"
   ]
  },
  {
   "cell_type": "code",
   "execution_count": 2,
   "metadata": {},
   "outputs": [
    {
     "name": "stdout",
     "output_type": "stream",
     "text": [
      "0\n",
      "10\n"
     ]
    }
   ],
   "source": [
    "#Subtraction\n",
    "print(5-5)\n",
    "#addition\n",
    "print(5+5)\n"
   ]
  },
  {
   "cell_type": "code",
   "execution_count": 5,
   "metadata": {},
   "outputs": [
    {
     "name": "stdout",
     "output_type": "stream",
     "text": [
      "15\n",
      "5.0\n",
      "4\n",
      "16\n"
     ]
    }
   ],
   "source": [
    "#multiply\n",
    "print(3*5)\n",
    "\n",
    "#division\n",
    "print(10/2)\n",
    "\n",
    "#reminder\n",
    "print(18%7)\n",
    "\n",
    "#power\n",
    "print(4**2)\n"
   ]
  },
  {
   "cell_type": "code",
   "execution_count": 6,
   "metadata": {},
   "outputs": [
    {
     "name": "stdout",
     "output_type": "stream",
     "text": [
      "Interest earned=  1750.0000000000002\n",
      "Total amount=  6750.0\n"
     ]
    }
   ],
   "source": [
    "p=5000\n",
    "r=0.07\n",
    "t=5\n",
    "SI=float(p*r*t)\n",
    "TI=float(p+SI)\n",
    "print(\"Interest earned= \",SI)\n",
    "print(\"Total amount= \",TI)"
   ]
  },
  {
   "cell_type": "code",
   "execution_count": 7,
   "metadata": {},
   "outputs": [
    {
     "name": "stdout",
     "output_type": "stream",
     "text": [
      "Time it will take in years=  7\n"
     ]
    }
   ],
   "source": [
    "p=8000\n",
    "r=0.087\n",
    "SI=4872\n",
    "t=int(SI/(p*r))\n",
    "print(\"Time will be taken in years= \",t)"
   ]
  },
  {
   "cell_type": "code",
   "execution_count": 8,
   "metadata": {},
   "outputs": [
    {
     "name": "stdout",
     "output_type": "stream",
     "text": [
      "Rate of interest is=  6.4\n"
     ]
    }
   ],
   "source": [
    "p=3000\n",
    "SI=768\n",
    "t=4\n",
    "r=float(SI/(p*t))*100\n",
    "print(\"Rate of interest is= \",r)\n"
   ]
  },
  {
   "cell_type": "code",
   "execution_count": 10,
   "metadata": {},
   "outputs": [
    {
     "name": "stdout",
     "output_type": "stream",
     "text": [
      "100\n",
      "194.87171000000012\n",
      "<class 'int'>\n",
      "<class 'float'>\n"
     ]
    }
   ],
   "source": [
    "# Exercise 2\n",
    "\n",
    "#Q1\n",
    "#Creating a variable savings\n",
    "savings=100\n",
    "print(savings)\n",
    "#Creating variable growth_multiplier\n",
    "growth_multiplier=1.1\n",
    "#Calculating result\n",
    "result=float(savings*growth_multiplier**7)\n",
    "#Q2\n",
    "#Printing result\n",
    "print(result)\n",
    "#Checking type of variables\n",
    "print(type(savings))\n",
    "print(type(growth_multiplier))\n"
   ]
  },
  {
   "cell_type": "code",
   "execution_count": 11,
   "metadata": {},
   "outputs": [
    {
     "name": "stdout",
     "output_type": "stream",
     "text": [
      "<class 'bool'>\n",
      "<class 'str'>\n",
      "<class 'float'>\n",
      "<class 'str'>\n",
      "<class 'bool'>\n"
     ]
    }
   ],
   "source": [
    "#Q3\n",
    "#Creating a variable desc\n",
    "desc=\"Compound Interest\"\n",
    "#Creating a new variable profitable\n",
    "profitable=bool(True)\n",
    "\n",
    "#Q4\n",
    "A=10.7\n",
    "B=\"This is python course\"\n",
    "C=False\n",
    "#Checking type of variable\n",
    "print(type(profitable))\n",
    "print(type(desc))\n",
    "print(type(A))\n",
    "print(type(B))\n",
    "print(type(C))"
   ]
  },
  {
   "cell_type": "code",
   "execution_count": null,
   "metadata": {},
   "outputs": [],
   "source": [
    "#Q5\n",
    "#Assign product of growth_multiplier and savings to year1\n",
    "year1=savings*growth_multiplier\n",
    "#Print the type of year1\n",
    "print(type(year1))\n",
    "#Assign sum of desc and desc to doubledesc\n",
    "doubledesc=desc+desc\n",
    "#Print out doubledesc\n",
    "print(doubledesc)"
   ]
  },
  {
   "cell_type": "code",
   "execution_count": null,
   "metadata": {},
   "outputs": [],
   "source": [
    "#Q6\n",
    "#For changing type of variables\n",
    "savings=str(savings)\n",
    "result=str(result)\n",
    "print(\"I started with $\" + savings + \" and now have $\" + result + \". Awesome!\")"
   ]
  },
  {
   "cell_type": "code",
   "execution_count": null,
   "metadata": {},
   "outputs": [],
   "source": [
    "#Q7\n",
    "# Definition of pi_string\n",
    "pi_string=\"3.1415926\"\n",
    "#Convert pi_string into float: pi_float\n",
    "pi_float=float(pi_string)\n",
    "#Multiply by 2 to save the value in double_pi\n",
    "double_pie=pi_float*2\n",
    "#Printing value of double_pie\n",
    "print(double_pie)"
   ]
  },
  {
   "cell_type": "code",
   "execution_count": 1,
   "metadata": {},
   "outputs": [],
   "source": [
    "#Q8\n",
    "#Which one of these will throw an error? Try in your notebooks\n",
    "#Option C as it will not be able to convert integer to string"
   ]
  },
  {
   "cell_type": "code",
   "execution_count": 2,
   "metadata": {},
   "outputs": [
    {
     "name": "stdout",
     "output_type": "stream",
     "text": [
      "Enter any number:4\n",
      "The no. entered by you  4 is even\n"
     ]
    }
   ],
   "source": [
    "#Exercise 3\n",
    "\n",
    "#Q1\n",
    "an=int(input(\"Enter any number:\"))\n",
    "if an%2==0:\n",
    "    print(\"The no. is \",an, \"is even\")\n",
    "else:\n",
    "    print(\"The no. is\",an, \"is odd\")"
   ]
  },
  {
   "cell_type": "code",
   "execution_count": 3,
   "metadata": {},
   "outputs": [
    {
     "name": "stdout",
     "output_type": "stream",
     "text": [
      "Enter temperature in Celsius: 34\n",
      "93.2\n"
     ]
    }
   ],
   "source": [
    "#Q2\n",
    "#tO convert degree centigrade into Fahrenheit\n",
    "c= float(input('Enter temperature in Celsius: '))\n",
    "#Conversion of celsius to fahrenheit\n",
    "f = (c*1.8)+32\n",
    "print(f)"
   ]
  },
  {
   "cell_type": "code",
   "execution_count": 4,
   "metadata": {},
   "outputs": [
    {
     "name": "stdout",
     "output_type": "stream",
     "text": [
      "Area of traingle is  5.332682251925386\n"
     ]
    }
   ],
   "source": [
    "#Q3\n",
    "#Finding area of a triangle whose sides are given\n",
    "a=4\n",
    "b=3\n",
    "c=6\n",
    "s=(a+b+c)/2\n",
    "import math\n",
    "area=math.sqrt(s*(s-a)*(s-b)*(s-c))\n",
    "print(\"Area of traingle is \",area)"
   ]
  },
  {
   "cell_type": "code",
   "execution_count": 5,
   "metadata": {},
   "outputs": [
    {
     "name": "stdout",
     "output_type": "stream",
     "text": [
      "Enter radius of circle34\n",
      "Circumference of circle is  213.62830044410595\n",
      "Area of circle is  3631.681107549801\n"
     ]
    }
   ],
   "source": [
    "#Q4\n",
    "#TO find area & circumference of circle\n",
    "r=float(input(\"Enter radius of circle\"))\n",
    "c=2*math.pi*r\n",
    "a=math.pi*r**2\n",
    "print(\"Circumference of circle is \",c)\n",
    "print(\"Area of circle is \",a)"
   ]
  },
  {
   "cell_type": "code",
   "execution_count": 6,
   "metadata": {},
   "outputs": [
    {
     "name": "stdout",
     "output_type": "stream",
     "text": [
      "Enter any number 22\n",
      "The no. entered by you  22 is not a multiple of 5\n"
     ]
    }
   ],
   "source": [
    "#Q5\n",
    "#To find if given integer is multiple of 5\n",
    "a=int(input(\"Enter any number \"))\n",
    "if a%5==0:\n",
    "    print(\"The no. entered by you \",a,\"is a multiple of 5\")\n",
    "else:\n",
    "    print(\"The no. entered by you \",a,\"is not a multiple of 5\")"
   ]
  },
  {
   "cell_type": "code",
   "execution_count": null,
   "metadata": {},
   "outputs": [],
   "source": []
  }
 ],
 "metadata": {
  "kernelspec": {
   "display_name": "Python 3",
   "language": "python",
   "name": "python3"
  },
  "language_info": {
   "codemirror_mode": {
    "name": "ipython",
    "version": 3
   },
   "file_extension": ".py",
   "mimetype": "text/x-python",
   "name": "python",
   "nbconvert_exporter": "python",
   "pygments_lexer": "ipython3",
   "version": "3.7.6"
  }
 },
 "nbformat": 4,
 "nbformat_minor": 4
}
