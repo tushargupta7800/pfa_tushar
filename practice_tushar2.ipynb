{
 "cells": [
  {
   "cell_type": "code",
   "execution_count": 1,
   "metadata": {},
   "outputs": [
    {
     "name": "stdout",
     "output_type": "stream",
     "text": [
      "Enter the number30\n",
      "30 is a multiple of 5\n"
     ]
    }
   ],
   "source": [
    "# Q5. Python program to check whether the given integer is a multiple of 5\n",
    "x=int(input(\"Enter the number\"))\n",
    "if(x%5==0):\n",
    " print(x,\"is a multiple of 5\")\n",
    "else:\n",
    "    print(\"Not a multiple of 5\")"
   ]
  },
  {
   "cell_type": "code",
   "execution_count": 2,
   "metadata": {},
   "outputs": [
    {
     "name": "stdout",
     "output_type": "stream",
     "text": [
      "Number 5 is smaller than 10\n",
      "This statement will always be executed\n"
     ]
    }
   ],
   "source": [
    "# Q6. Assign a value of 5 to variable num. Use if statement to print “No. is smaller than 10” if it is and always print\n",
    "#“This statement will always be executed” after if statement\n",
    "num=5\n",
    "if(num<10):\n",
    "    print(\"Number\",num,\"is smaller than 10\")\n",
    "print(\"This statement will always be executed\")  "
   ]
  },
  {
   "cell_type": "code",
   "execution_count": 4,
   "metadata": {},
   "outputs": [
    {
     "name": "stdout",
     "output_type": "stream",
     "text": [
      "Enter passing marks233\n",
      "Enter your score23\n",
      "You need to work hard\n"
     ]
    }
   ],
   "source": [
    "#Q7. Ask the user two inputs, “passing_score” and “my_score”.\n",
    "#Use if statement to print “Congratulations! You have passed your exam” if passing score is more than or equal to 60 or \n",
    "#else print “you need to work hard”\n",
    "\n",
    "pass_score=int(input(\"Enter passing marks\"))\n",
    "my_score=int(input(\"Enter your score\"))\n",
    "if my_score>=60:\n",
    "    print(\"Congrats! You hav passed the exam\")\n",
    "else:\n",
    "    print(\"You need to work hard\")\n",
    "    "
   ]
  },
  {
   "cell_type": "code",
   "execution_count": 6,
   "metadata": {},
   "outputs": [
    {
     "name": "stdout",
     "output_type": "stream",
     "text": [
      "Number is positive\n",
      "Number is less than 10\n"
     ]
    }
   ],
   "source": [
    "# Q8. Assign a value of 5 to variable “num”.\n",
    "#Print if statements to print “number is positive” if “num” is and \n",
    "#print “number is less than 10” if it is also there,\n",
    "\n",
    "num=5\n",
    "if(num>0):\n",
    "    print('Number is positive')\n",
    "if num<10:\n",
    "    print(\"Number is less than 10\")\n",
    "else:\n",
    "    print(\"Neither positive nor less than 10\")"
   ]
  },
  {
   "cell_type": "code",
   "execution_count": null,
   "metadata": {},
   "outputs": [],
   "source": [
    "# Q9. Take an input from user for any number in ‘n’.\n",
    "#Check in nested if loop, first condition: n is not equal to 0,Second condition: n is greater than 0. \n",
    "#If both conditions satisfies Print “Number is greater than Zero\"\n",
    "\n",
    "n=int(input(\"Enter a number\"))\n",
    "if (n!=0)and (n>0):\n",
    "    print(\"Number is greater than Zero\")\n",
    "else:\n",
    "    print(\"Number is lesser than Zero\")\n"
   ]
  },
  {
   "cell_type": "code",
   "execution_count": null,
   "metadata": {},
   "outputs": [],
   "source": [
    "# Q10. Multiple conditions using “And” :Take inputs of three different nos. num1, num 2 and num3 from the user.\n",
    "#Print “All the conditions are true” if num1 is 10, num 2 is 20 and num 3 is 30\n",
    "\n",
    "num1=int(input(\"Enter the value 1 :\"))\n",
    "num2=int(input(\"Enter the value 2 :\"))\n",
    "num3=int(input(\"Enter the value 3 :\"))\n",
    "if((num1==10)and(num2==20)and(num3==30)):\n",
    "    print(\"all conditions are true\")\n",
    "else:\n",
    "    print(\"not the desired result\")"
   ]
  },
  {
   "cell_type": "code",
   "execution_count": null,
   "metadata": {},
   "outputs": [],
   "source": [
    "# Q11. Multiple conditions using “or” :Take inputs of a fruitName from the user.\n",
    "#Print ““It’s a fruit”” if the fruitName is either Mango or Apple or Grapes.\n",
    "\n",
    "fruitName=input(\"Enter the name of the fruit \")\n",
    "if(fruitName ==\"apple\" or fruitName== \"mango\" or fruitName==\"grapes\"):\n",
    "    print(\"It's a fruit\")\n",
    "else:\n",
    "    print(\"not the desired result\")\n"
   ]
  },
  {
   "cell_type": "code",
   "execution_count": null,
   "metadata": {},
   "outputs": [],
   "source": [
    "# Q1. Python program to find out the average of a set of integers\n",
    "\n",
    "sum=0\n",
    "avg=0\n",
    "for i in range(5):\n",
    " i=int(input('enter the numbers'))\n",
    " sum= sum + i\n",
    " avg=(sum)/5\n",
    "print (sum)\n",
    "print(avg)\n"
   ]
  },
  {
   "cell_type": "code",
   "execution_count": null,
   "metadata": {},
   "outputs": [],
   "source": [
    "# Q2. Make a list of 5 fruits. Print each fruit in a fruit list using ‘for’ loop\n",
    "\n",
    "fruits=[\"strawberry\", \"grapes\", \"apple\", \"mango\", \"cherry\"]\n",
    "for i in fruits:\n",
    "    print(i)"
   ]
  },
  {
   "cell_type": "code",
   "execution_count": null,
   "metadata": {},
   "outputs": [],
   "source": []
  },
  {
   "cell_type": "code",
   "execution_count": null,
   "metadata": {},
   "outputs": [],
   "source": []
  }
 ],
 "metadata": {
  "kernelspec": {
   "display_name": "Python 3",
   "language": "python",
   "name": "python3"
  },
  "language_info": {
   "codemirror_mode": {
    "name": "ipython",
    "version": 3
   },
   "file_extension": ".py",
   "mimetype": "text/x-python",
   "name": "python",
   "nbconvert_exporter": "python",
   "pygments_lexer": "ipython3",
   "version": "3.7.6"
  }
 },
 "nbformat": 4,
 "nbformat_minor": 4
}
